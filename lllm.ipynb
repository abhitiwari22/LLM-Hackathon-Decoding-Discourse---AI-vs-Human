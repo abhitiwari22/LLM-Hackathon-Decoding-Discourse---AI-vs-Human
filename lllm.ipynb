{
 "cells": [
  {
   "cell_type": "markdown",
   "id": "836d8e04",
   "metadata": {},
   "source": [
    "Importing necessary libraries and sets up the environment"
   ]
  },
  {
   "cell_type": "code",
   "execution_count": 1,
   "id": "53863e88",
   "metadata": {},
   "outputs": [
    {
     "data": {
      "text/html": [
       "<style>.container { width:100% !important; }</style>"
      ],
      "text/plain": [
       "<IPython.core.display.HTML object>"
      ]
     },
     "metadata": {},
     "output_type": "display_data"
    }
   ],
   "source": [
    "# Importing libraries\n",
    "import pandas as pd\n",
    "import numpy as np\n",
    "import os\n",
    "import seaborn as sns\n",
    "import matplotlib.pyplot as plt\n",
    "from sklearn.svm import SVC\n",
    "from imblearn.over_sampling import SMOTE\n",
    "from sklearn.model_selection import train_test_split\n",
    "from sklearn.metrics import accuracy_score, classification_report, confusion_matrix\n",
    "from sklearn.feature_extraction.text import TfidfVectorizer\n",
    "from sklearn.preprocessing import StandardScaler\n",
    "\n",
    "# Suppressing warnings\n",
    "import warnings\n",
    "warnings.filterwarnings('ignore')\n",
    "\n",
    "# Display settings for Jupyter Notebook\n",
    "from IPython.display import display, HTML\n",
    "display(HTML(\"<style>.container { width:100% !important; }</style>\"))\n",
    "from IPython.core.interactiveshell import InteractiveShell\n",
    "InteractiveShell.ast_node_interactivity = \"all\"\n",
    "\n",
    "# Setting display options for Pandas\n",
    "pd.set_option(\"display.max_columns\", None)\n"
   ]
  },
  {
   "cell_type": "code",
   "execution_count": 2,
   "id": "ee437f0b",
   "metadata": {},
   "outputs": [],
   "source": [
    "train=pd.read_csv('train.csv')\n",
    "test=pd.read_csv('test.csv')\n",
    "\n",
    "prompts=pd.read_csv('train_prompts.csv')"
   ]
  },
  {
   "cell_type": "code",
   "execution_count": 3,
   "id": "57c964cf",
   "metadata": {},
   "outputs": [
    {
     "data": {
      "text/plain": [
       "(212, 4)"
      ]
     },
     "execution_count": 3,
     "metadata": {},
     "output_type": "execute_result"
    },
    {
     "data": {
      "text/plain": [
       "(188, 3)"
      ]
     },
     "execution_count": 3,
     "metadata": {},
     "output_type": "execute_result"
    },
    {
     "data": {
      "text/plain": [
       "(2, 4)"
      ]
     },
     "execution_count": 3,
     "metadata": {},
     "output_type": "execute_result"
    },
    {
     "data": {
      "text/plain": [
       "Index(['id', 'prompt_id', 'text', 'generated'], dtype='object')"
      ]
     },
     "execution_count": 3,
     "metadata": {},
     "output_type": "execute_result"
    },
    {
     "data": {
      "text/plain": [
       "Index(['id', 'prompt_id', 'text'], dtype='object')"
      ]
     },
     "execution_count": 3,
     "metadata": {},
     "output_type": "execute_result"
    },
    {
     "data": {
      "text/plain": [
       "Index(['prompt_id', 'prompt_name', 'instructions', 'source_text'], dtype='object')"
      ]
     },
     "execution_count": 3,
     "metadata": {},
     "output_type": "execute_result"
    }
   ],
   "source": [
    "#checking the shape of the dataset\n",
    "train.shape\n",
    "test.shape\n",
    "prompts.shape\n",
    "\n",
    "#Checking the names of the columns\n",
    "train.columns\n",
    "test.columns\n",
    "prompts.columns"
   ]
  },
  {
   "cell_type": "code",
   "execution_count": 4,
   "id": "4470d758",
   "metadata": {},
   "outputs": [],
   "source": [
    "# Merging the dataset\n",
    "train=pd.merge(train,prompts,on='prompt_id',how='left')"
   ]
  },
  {
   "cell_type": "code",
   "execution_count": 5,
   "id": "d1f25208",
   "metadata": {},
   "outputs": [
    {
     "data": {
      "text/html": [
       "<div>\n",
       "<style scoped>\n",
       "    .dataframe tbody tr th:only-of-type {\n",
       "        vertical-align: middle;\n",
       "    }\n",
       "\n",
       "    .dataframe tbody tr th {\n",
       "        vertical-align: top;\n",
       "    }\n",
       "\n",
       "    .dataframe thead th {\n",
       "        text-align: right;\n",
       "    }\n",
       "</style>\n",
       "<table border=\"1\" class=\"dataframe\">\n",
       "  <thead>\n",
       "    <tr style=\"text-align: right;\">\n",
       "      <th></th>\n",
       "      <th>id</th>\n",
       "      <th>prompt_id</th>\n",
       "      <th>text</th>\n",
       "      <th>generated</th>\n",
       "      <th>prompt_name</th>\n",
       "      <th>instructions</th>\n",
       "      <th>source_text</th>\n",
       "    </tr>\n",
       "  </thead>\n",
       "  <tbody>\n",
       "    <tr>\n",
       "      <th>0</th>\n",
       "      <td>e663b2f5</td>\n",
       "      <td>0</td>\n",
       "      <td>The ideal career choice is one that aligns pas...</td>\n",
       "      <td>0</td>\n",
       "      <td>The Ideal Career Choice</td>\n",
       "      <td>\\nWrite an explanatory essay to inform fellow ...</td>\n",
       "      <td>#How to Choose a Career: 7 Ways to Narrow Your...</td>\n",
       "    </tr>\n",
       "    <tr>\n",
       "      <th>1</th>\n",
       "      <td>dc1bd601</td>\n",
       "      <td>0</td>\n",
       "      <td>The ideal career choice is one that aligns wit...</td>\n",
       "      <td>0</td>\n",
       "      <td>The Ideal Career Choice</td>\n",
       "      <td>\\nWrite an explanatory essay to inform fellow ...</td>\n",
       "      <td>#How to Choose a Career: 7 Ways to Narrow Your...</td>\n",
       "    </tr>\n",
       "    <tr>\n",
       "      <th>2</th>\n",
       "      <td>3f28d007</td>\n",
       "      <td>0</td>\n",
       "      <td>The ideal career choice is one that aligns wit...</td>\n",
       "      <td>0</td>\n",
       "      <td>The Ideal Career Choice</td>\n",
       "      <td>\\nWrite an explanatory essay to inform fellow ...</td>\n",
       "      <td>#How to Choose a Career: 7 Ways to Narrow Your...</td>\n",
       "    </tr>\n",
       "    <tr>\n",
       "      <th>3</th>\n",
       "      <td>46232258</td>\n",
       "      <td>0</td>\n",
       "      <td>The ideal career choice is one that aligns wit...</td>\n",
       "      <td>0</td>\n",
       "      <td>The Ideal Career Choice</td>\n",
       "      <td>\\nWrite an explanatory essay to inform fellow ...</td>\n",
       "      <td>#How to Choose a Career: 7 Ways to Narrow Your...</td>\n",
       "    </tr>\n",
       "    <tr>\n",
       "      <th>4</th>\n",
       "      <td>f9fff5c6</td>\n",
       "      <td>0</td>\n",
       "      <td>The ideal career choice is one that aligns wit...</td>\n",
       "      <td>0</td>\n",
       "      <td>The Ideal Career Choice</td>\n",
       "      <td>\\nWrite an explanatory essay to inform fellow ...</td>\n",
       "      <td>#How to Choose a Career: 7 Ways to Narrow Your...</td>\n",
       "    </tr>\n",
       "  </tbody>\n",
       "</table>\n",
       "</div>"
      ],
      "text/plain": [
       "         id  prompt_id                                               text  \\\n",
       "0  e663b2f5          0  The ideal career choice is one that aligns pas...   \n",
       "1  dc1bd601          0  The ideal career choice is one that aligns wit...   \n",
       "2  3f28d007          0  The ideal career choice is one that aligns wit...   \n",
       "3  46232258          0  The ideal career choice is one that aligns wit...   \n",
       "4  f9fff5c6          0  The ideal career choice is one that aligns wit...   \n",
       "\n",
       "   generated              prompt_name  \\\n",
       "0          0  The Ideal Career Choice   \n",
       "1          0  The Ideal Career Choice   \n",
       "2          0  The Ideal Career Choice   \n",
       "3          0  The Ideal Career Choice   \n",
       "4          0  The Ideal Career Choice   \n",
       "\n",
       "                                        instructions  \\\n",
       "0  \\nWrite an explanatory essay to inform fellow ...   \n",
       "1  \\nWrite an explanatory essay to inform fellow ...   \n",
       "2  \\nWrite an explanatory essay to inform fellow ...   \n",
       "3  \\nWrite an explanatory essay to inform fellow ...   \n",
       "4  \\nWrite an explanatory essay to inform fellow ...   \n",
       "\n",
       "                                         source_text  \n",
       "0  #How to Choose a Career: 7 Ways to Narrow Your...  \n",
       "1  #How to Choose a Career: 7 Ways to Narrow Your...  \n",
       "2  #How to Choose a Career: 7 Ways to Narrow Your...  \n",
       "3  #How to Choose a Career: 7 Ways to Narrow Your...  \n",
       "4  #How to Choose a Career: 7 Ways to Narrow Your...  "
      ]
     },
     "execution_count": 5,
     "metadata": {},
     "output_type": "execute_result"
    },
    {
     "data": {
      "text/html": [
       "<div>\n",
       "<style scoped>\n",
       "    .dataframe tbody tr th:only-of-type {\n",
       "        vertical-align: middle;\n",
       "    }\n",
       "\n",
       "    .dataframe tbody tr th {\n",
       "        vertical-align: top;\n",
       "    }\n",
       "\n",
       "    .dataframe thead th {\n",
       "        text-align: right;\n",
       "    }\n",
       "</style>\n",
       "<table border=\"1\" class=\"dataframe\">\n",
       "  <thead>\n",
       "    <tr style=\"text-align: right;\">\n",
       "      <th></th>\n",
       "      <th>id</th>\n",
       "      <th>prompt_id</th>\n",
       "      <th>text</th>\n",
       "    </tr>\n",
       "  </thead>\n",
       "  <tbody>\n",
       "    <tr>\n",
       "      <th>0</th>\n",
       "      <td>63cf09af</td>\n",
       "      <td>0</td>\n",
       "      <td>The ideal career choice is one that aligns wit...</td>\n",
       "    </tr>\n",
       "    <tr>\n",
       "      <th>1</th>\n",
       "      <td>908e398d</td>\n",
       "      <td>0</td>\n",
       "      <td>#Pursuing Passion in Professions \\n The ideal ...</td>\n",
       "    </tr>\n",
       "    <tr>\n",
       "      <th>2</th>\n",
       "      <td>5e281241</td>\n",
       "      <td>0</td>\n",
       "      <td>The ideal career choice is one that aligns wit...</td>\n",
       "    </tr>\n",
       "    <tr>\n",
       "      <th>3</th>\n",
       "      <td>5f57d123</td>\n",
       "      <td>0</td>\n",
       "      <td>#Embracing Diversity in Career Choices \\n Dive...</td>\n",
       "    </tr>\n",
       "    <tr>\n",
       "      <th>4</th>\n",
       "      <td>5bef5435</td>\n",
       "      <td>0</td>\n",
       "      <td>The ideal career choice is one that aligns wit...</td>\n",
       "    </tr>\n",
       "  </tbody>\n",
       "</table>\n",
       "</div>"
      ],
      "text/plain": [
       "         id  prompt_id                                               text\n",
       "0  63cf09af          0  The ideal career choice is one that aligns wit...\n",
       "1  908e398d          0  #Pursuing Passion in Professions \\n The ideal ...\n",
       "2  5e281241          0  The ideal career choice is one that aligns wit...\n",
       "3  5f57d123          0  #Embracing Diversity in Career Choices \\n Dive...\n",
       "4  5bef5435          0  The ideal career choice is one that aligns wit..."
      ]
     },
     "execution_count": 5,
     "metadata": {},
     "output_type": "execute_result"
    }
   ],
   "source": [
    "#Checking the first 5 rows to see how data look's like\n",
    "train.head()\n",
    "test.head()"
   ]
  },
  {
   "cell_type": "code",
   "execution_count": 6,
   "id": "9db7dd51",
   "metadata": {},
   "outputs": [
    {
     "data": {
      "text/plain": [
       "id              0\n",
       "prompt_id       0\n",
       "text            0\n",
       "generated       0\n",
       "prompt_name     0\n",
       "instructions    0\n",
       "source_text     0\n",
       "dtype: int64"
      ]
     },
     "execution_count": 6,
     "metadata": {},
     "output_type": "execute_result"
    },
    {
     "data": {
      "text/plain": [
       "id           0\n",
       "prompt_id    0\n",
       "text         0\n",
       "dtype: int64"
      ]
     },
     "execution_count": 6,
     "metadata": {},
     "output_type": "execute_result"
    }
   ],
   "source": [
    "#cheking for the null values\n",
    "train.isnull().sum()\n",
    "test.isnull().sum()\n"
   ]
  },
  {
   "cell_type": "code",
   "execution_count": 7,
   "id": "78d44171",
   "metadata": {},
   "outputs": [
    {
     "data": {
      "text/plain": [
       "1    184\n",
       "0     28\n",
       "Name: generated, dtype: int64"
      ]
     },
     "execution_count": 7,
     "metadata": {},
     "output_type": "execute_result"
    }
   ],
   "source": [
    "#checking the Target variable 0 is generated by LLM and 1 is written by a student\n",
    "train['generated'].value_counts()"
   ]
  },
  {
   "cell_type": "code",
   "execution_count": 8,
   "id": "02667aa1",
   "metadata": {},
   "outputs": [
    {
     "data": {
      "text/plain": [
       "<AxesSubplot:xlabel='generated', ylabel='count'>"
      ]
     },
     "execution_count": 8,
     "metadata": {},
     "output_type": "execute_result"
    },
    {
     "data": {
      "image/png": "[encoded data removed]",
      "text/plain": [
       "<Figure size 432x288 with 1 Axes>"
      ]
     },
     "metadata": {
      "needs_background": "light"
     },
     "output_type": "display_data"
    }
   ],
   "source": [
    "sns.countplot(train['generated'])"
   ]
  },
  {
   "cell_type": "markdown",
   "id": "927bf315",
   "metadata": {},
   "source": [
    "As we can see that this is a imbalanced dataset so we can use either under sampling or over sampling .In Over-Samplingwe can use \n",
    "SMOTE(Synthetic Minority Over Sampling Technique) to create synthetic samples for minority class to balanced the classdistribution.\n",
    "We can also use ensemble methods such as Random Forest or AdaBoost because these algorithm can handle imbalanced dataset well by \n",
    "giving more weight to minority class instances."
   ]
  },
  {
   "cell_type": "code",
   "execution_count": 9,
   "id": "b497f38b",
   "metadata": {},
   "outputs": [],
   "source": [
    "def calculate_word_count(text):\n",
    "    return len(text.split())\n",
    "\n",
    "def calculate_avg_word_length(text):\n",
    "    words = text.split()\n",
    "    return np.mean([len(word) for word in words])\n",
    "\n",
    "# Additional Feature Engineering\n",
    "train['word_count'] = train['text'].apply(calculate_word_count)\n",
    "train['avg_word_length'] = train['text'].apply(calculate_avg_word_length)"
   ]
  },
  {
   "cell_type": "code",
   "execution_count": 10,
   "id": "d31c0bf8",
   "metadata": {},
   "outputs": [],
   "source": [
    "# Data Preprocessing with adjusted TF-IDF vectorization\n",
    "max_features = 5000\n",
    "stop_words = 'english'\n",
    "ngram_range = (1, 2)\n",
    "\n",
    "# Initialize TF-IDF Vectorizer\n",
    "tfidf_vectorizer = TfidfVectorizer(max_features=max_features, stop_words=stop_words, ngram_range=ngram_range)\n",
    "\n",
    "# Fit and Transform the 'text' column\n",
    "X_tfidf = tfidf_vectorizer.fit_transform(train['text'])\n",
    "\n",
    "# Convert the result to an array\n",
    "X_tfidf_array = X_tfidf.toarray()"
   ]
  },
  {
   "cell_type": "code",
   "execution_count": 12,
   "id": "17ed7bbe",
   "metadata": {},
   "outputs": [],
   "source": [
    "# Additional features for TF-IDF vectorization\n",
    "additional_features = train[['word_count', 'avg_word_length']].values\n",
    "\n",
    "# Combine TF-IDF and additional features horizontally\n",
    "X_combined = np.hstack([X_tfidf_array, additional_features])\n"
   ]
  },
  {
   "cell_type": "code",
   "execution_count": 13,
   "id": "bb5db72e",
   "metadata": {},
   "outputs": [
    {
     "data": {
      "text/plain": [
       "SVC(class_weight='balanced', kernel='linear', random_state=42)"
      ]
     },
     "execution_count": 13,
     "metadata": {},
     "output_type": "execute_result"
    },
    {
     "name": "stdout",
     "output_type": "stream",
     "text": [
      "\n",
      "Model - SVM for Class 0:\n",
      "Accuracy: 0.9767441860465116\n",
      "\n",
      "Classification Report:\n",
      "              precision    recall  f1-score   support\n",
      "\n",
      "           0       1.00      0.83      0.91         6\n",
      "           1       0.97      1.00      0.99        37\n",
      "\n",
      "    accuracy                           0.98        43\n",
      "   macro avg       0.99      0.92      0.95        43\n",
      "weighted avg       0.98      0.98      0.98        43\n",
      "\n",
      "\n",
      "Confusion Matrix:\n",
      "[[ 5  1]\n",
      " [ 0 37]]\n"
     ]
    }
   ],
   "source": [
    "# Split Data\n",
    "X_train, X_val, y_train, y_val = train_test_split(X_combined, train['generated'], test_size=0.2, random_state=42)\n",
    "\n",
    "# Oversample class 0\n",
    "oversampler = SMOTE(sampling_strategy='auto', random_state=42)\n",
    "X_train_oversampled, y_train_oversampled = oversampler.fit_resample(X_train, y_train)\n",
    "\n",
    "# Hyperparameter Tuning\n",
    "model_class_0 = SVC(random_state=42, C=1.0, kernel='linear', class_weight='balanced')  # Support Vector Machines\n",
    "\n",
    "# Feature Scaling for SVM on Training Data\n",
    "scaler = StandardScaler()\n",
    "X_train_scaled = scaler.fit_transform(X_train_oversampled)\n",
    "X_val_scaled = scaler.transform(X_val)\n",
    "\n",
    "# Fit the SVM model for class 0\n",
    "model_class_0.fit(X_train_scaled, y_train_oversampled)\n",
    "\n",
    "# Make Predictions\n",
    "y_pred = model_class_0.predict(X_val_scaled)\n",
    "\n",
    "# Evaluate the Model\n",
    "print(\"\\nModel - SVM for Class 0:\")\n",
    "print(\"Accuracy:\", accuracy_score(y_val, y_pred))\n",
    "print(\"\\nClassification Report:\")\n",
    "print(classification_report(y_val, y_pred))\n",
    "print(\"\\nConfusion Matrix:\")\n",
    "print(confusion_matrix(y_val, y_pred))\n"
   ]
  },
  {
   "cell_type": "code",
   "execution_count": 14,
   "id": "b73b3a7a",
   "metadata": {
    "scrolled": true
   },
   "outputs": [
    {
     "name": "stdout",
     "output_type": "stream",
     "text": [
      "\n",
      "Test Set with Predictions:\n",
      "           id  prompt_id  generated\n",
      "0    63cf09af          0          0\n",
      "1    908e398d          0          0\n",
      "2    5e281241          0          0\n",
      "3    5f57d123          0          0\n",
      "4    5bef5435          0          0\n",
      "..        ...        ...        ...\n",
      "183  8312d6fa          1          1\n",
      "184  a46dc136          1          1\n",
      "185  75bb5544          1          1\n",
      "186  2fa6f12a          1          1\n",
      "187  463be5e6          1          1\n",
      "\n",
      "[188 rows x 3 columns]\n"
     ]
    }
   ],
   "source": [
    "test['word_count'] = test['text'].apply(calculate_word_count)\n",
    "test['avg_word_length'] = test['text'].apply(calculate_avg_word_length)\n",
    "\n",
    "# Data Preprocessing for Test Data\n",
    "X_tfidf_test = tfidf_vectorizer.transform(test['text']).toarray()\n",
    "X_additional_test = test[['word_count', 'avg_word_length']].values\n",
    "X_combined_test = np.hstack([X_tfidf_test, X_additional_test])\n",
    "\n",
    "# Feature Scaling for SVM on Test Data\n",
    "X_combined_test_scaled = scaler.transform(X_combined_test)\n",
    "\n",
    "# Make Predictions on Test Data\n",
    "y_pred_test = model_class_0.predict(X_combined_test_scaled)\n",
    "\n",
    "# Combine Predictions for Test Set\n",
    "y_pred_combined_test = test.copy()\n",
    "y_pred_combined_test['generated'] = y_pred_test\n",
    "\n",
    "# Display the updated Test Set with Predictions\n",
    "print(\"\\nTest Set with Predictions:\")\n",
    "print(y_pred_combined_test[['id', 'prompt_id', 'generated']])\n",
    "\n",
    "# Save Predictions to Submission File\n",
    "submission_file_path = os.path.join('D:\\\\abhi\\\\Participants_Dataset_LLM_Hackathon', 'submission_2.csv')\n",
    "y_pred_combined_test[['id', 'prompt_id', 'generated']].to_csv(submission_file_path, index=False)"
   ]
  },
  {
   "cell_type": "code",
   "execution_count": null,
   "id": "774a9311",
   "metadata": {},
   "outputs": [],
   "source": []
  }
 ],
 "metadata": {
  "kernelspec": {
   "display_name": "Python 3 (ipykernel)",
   "language": "python",
   "name": "python3"
  },
  "language_info": {
   "codemirror_mode": {
    "name": "ipython",
    "version": 3
   },
   "file_extension": ".py",
   "mimetype": "text/x-python",
   "name": "python",
   "nbconvert_exporter": "python",
   "pygments_lexer": "ipython3",
   "version": "3.9.12"
  }
 },
 "nbformat": 4,
 "nbformat_minor": 5
}
